{
 "cells": [
  {
   "cell_type": "code",
   "execution_count": 1,
   "metadata": {},
   "outputs": [],
   "source": [
    "%matplotlib inline\n",
    "import cv2 as cv\n",
    "import numpy as np\n",
    "from matplotlib import pyplot as plt\n",
    "from PIL import Image\n",
    "import os"
   ]
  },
  {
   "cell_type": "code",
   "execution_count": 2,
   "metadata": {},
   "outputs": [],
   "source": [
    "def img_show(img):\n",
    "    fig = plt.figure()\n",
    "    plt.imshow(img)\n",
    "    plt.xticks([])\n",
    "    plt.yticks([])\n",
    "    plt.show()"
   ]
  },
  {
   "cell_type": "code",
   "execution_count": 3,
   "metadata": {},
   "outputs": [],
   "source": [
    "def img_save(img, img_name):\n",
    "    fig = plt.figure()\n",
    "    plt.imshow(img)\n",
    "    plt.xticks([])\n",
    "    plt.yticks([])\n",
    "    path = 'B/%s' % img_name\n",
    "    fig.savefig(path, bbox_inches='tight', pad_inches=0)"
   ]
  },
  {
   "cell_type": "code",
   "execution_count": 4,
   "metadata": {},
   "outputs": [],
   "source": [
    "def img_name_split(img_name):\n",
    "    img_name = img_name.split('.')[0]\n",
    "    img_name_list = list()\n",
    "    for i in img_name:\n",
    "        img_name_list.append(i)\n",
    "    return img_name_list"
   ]
  },
  {
   "cell_type": "code",
   "execution_count": 5,
   "metadata": {},
   "outputs": [],
   "source": [
    "def digit_sort(position):\n",
    "    return sorted(position, key=lambda i: i[0])"
   ]
  },
  {
   "cell_type": "code",
   "execution_count": 6,
   "metadata": {},
   "outputs": [],
   "source": [
    "def digit_save(img, img_name):\n",
    "    fig = plt.figure()\n",
    "    img = cv.resize(img, (28, 28)) \n",
    "    plt.imshow(img)\n",
    "    plt.xticks([])\n",
    "    plt.yticks([])\n",
    "    path = 'C/%s.png' % (img_name + str(np.random.rand())[-4:])\n",
    "    fig.savefig(path, bbox_inches='tight', pad_inches=0)"
   ]
  },
  {
   "cell_type": "code",
   "execution_count": 7,
   "metadata": {},
   "outputs": [],
   "source": [
    "def main(img_name):\n",
    "    img_name_list = img_name_split(img_name)\n",
    "    path = 'A/%s' % img_name \n",
    "    img = cv.imread(path, 0)\n",
    "    ret, thresh = cv.threshold(img, 127, 255, cv.THRESH_BINARY)\n",
    "    img2, contours, hierarchy = cv.findContours(thresh, cv.RETR_LIST, cv.CHAIN_APPROX_SIMPLE)\n",
    "#     img_save(thresh, img_name)\n",
    "    digit_list = list()\n",
    "    for i, j in enumerate(contours):\n",
    "        if (cv.contourArea(j) < 1000) and (cv.contourArea(j) > 200):\n",
    "            [x, y, w, h] = cv.boundingRect(j)\n",
    "            digit_list.append([x, y, w, h])\n",
    "    digit_list_sort = digit_sort(digit_list)\n",
    "    for i, j in zip(digit_list_sort, img_name_list):\n",
    "        x, y, w, h = i[0], i[1], i[2], i[3]\n",
    "        cv.rectangle(img, (x - 10, y - 10), (x + w + 10, y + h + 10), (0, 255, 0), 2)\n",
    "        roi = thresh[y - 10 : y + h + 10, x - 10 : x + w + 10]\n",
    "        digit_save(roi, j)\n",
    "        roismall = cv.resize(roi, (10, 10))\n",
    "        roismall = roismall.reshape((1, 100))\n",
    "        roismall = np.float32(roismall)"
   ]
  },
  {
   "cell_type": "code",
   "execution_count": 8,
   "metadata": {},
   "outputs": [],
   "source": [
    "# %%time\n",
    "# path = 'A/'\n",
    "# for i in os.listdir(path):\n",
    "#     try:\n",
    "#         main(i)\n",
    "#     except:\n",
    "#         pass"
   ]
  },
  {
   "cell_type": "code",
   "execution_count": null,
   "metadata": {},
   "outputs": [],
   "source": []
  }
 ],
 "metadata": {
  "kernelspec": {
   "display_name": "Python 3",
   "language": "python",
   "name": "python3"
  },
  "language_info": {
   "codemirror_mode": {
    "name": "ipython",
    "version": 3
   },
   "file_extension": ".py",
   "mimetype": "text/x-python",
   "name": "python",
   "nbconvert_exporter": "python",
   "pygments_lexer": "ipython3",
   "version": "3.5.4"
  }
 },
 "nbformat": 4,
 "nbformat_minor": 2
}
